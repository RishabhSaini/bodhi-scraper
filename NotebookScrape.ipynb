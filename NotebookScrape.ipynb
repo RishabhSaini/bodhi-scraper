{
 "cells": [
  {
   "cell_type": "code",
   "execution_count": 1,
   "id": "f35f1660",
   "metadata": {},
   "outputs": [],
   "source": [
    "import pandas as pd\n",
    "import json\n",
    "import re\n",
    "import matplotlib.pyplot as plt\n",
    "import sys\n",
    "import json"
   ]
  },
  {
   "cell_type": "code",
   "execution_count": 2,
   "id": "2408bf32",
   "metadata": {},
   "outputs": [],
   "source": [
    "df = pd.read_csv('rpmPackages.csv')\n",
    "fcos_pkg_list = df.to_dict('list')\n",
    "fcos_pkg = df.to_dict('records')"
   ]
  },
  {
   "cell_type": "code",
   "execution_count": 3,
   "id": "6b9f3771",
   "metadata": {},
   "outputs": [],
   "source": [
    "query = json.load(open(\"parsedAndProcessed.json\"))"
   ]
  },
  {
   "cell_type": "code",
   "execution_count": 4,
   "id": "e82ff385",
   "metadata": {},
   "outputs": [
    {
     "name": "stdout",
     "output_type": "stream",
     "text": [
      "('fedora-repos-ostree', 'fc36')\n"
     ]
    }
   ],
   "source": [
    "def parse_nevr(s):\n",
    "    EPOCH_RE = re.compile(r\"^(\\d+):\")\n",
    "    DIST = re.compile(r\"[^.]+$\")\n",
    "    ss = s.split('-')\n",
    "    while (len(ss) < 3):\n",
    "        ss.append(\"\")\n",
    "    r = ss.pop()\n",
    "    dist_tag = DIST.search(r).group(0)\n",
    "    v = ss.pop()\n",
    "    e = \"\"\n",
    " \n",
    "    m = EPOCH_RE.search(v)\n",
    "    if m:  # N-E:V-R\n",
    "        e = m.group(1)\n",
    "        v = v[len(m.group(0)):]\n",
    "    else:\n",
    "        m = EPOCH_RE.search(ss[0])\n",
    "        if m:  # E:N-V-R\n",
    "            e = m.group(1)\n",
    "            ss[0] = ss[0][len(m.group(0)):]\n",
    "    return (\"-\".join(ss), dist_tag)\n",
    "\n",
    "print(parse_nevr(\"fedora-repos-ostree-36-4.fc36\"))"
   ]
  },
  {
   "cell_type": "code",
   "execution_count": 5,
   "id": "bbf5a2ef",
   "metadata": {},
   "outputs": [],
   "source": [
    "class FreqMatch:\n",
    "    def __init__(self, name, size, freq):\n",
    "        self.name = name\n",
    "        self.size = size\n",
    "        self.freq = freq\n",
    "        \n",
    "    def __repr__(self):\n",
    "        return '<FreqMatch Name: {} Size: {} Freq: {}>'.format(self.name, self.size, self.freq)\n",
    "    \n",
    "    def toDict(self):\n",
    "        return {\"Name\" : self.name, \"Size\" : self.size, \"Freq\" : self.freq}\n",
    "\n",
    "matches = []\n",
    "for i, pkg in enumerate(fcos_pkg_list['Package']):\n",
    "    name, dist = parse_nevr(pkg)\n",
    "    nameDist = name + \".\" + dist\n",
    "    if nameDist in query.keys():\n",
    "        matches.append(FreqMatch(nameDist, fcos_pkg_list['Size'][i], len(query[nameDist])))\n",
    "\n",
    "\n",
    "    \n"
   ]
  },
  {
   "cell_type": "code",
   "execution_count": null,
   "id": "c752f12d",
   "metadata": {},
   "outputs": [
    {
     "name": "stdout",
     "output_type": "stream",
     "text": [
      "By Freq\n"
     ]
    }
   ],
   "source": [
    "matches.sort(key=lambda x: x.freq, reverse=True)\n",
    "json_freq_match = []\n",
    "for pkg in matches:\n",
    "    json_freq_match.append(pkg.toDict())\n",
    "print(\"By Freq\")\n",
    "sys.stdout=open(\"ByFreq.json\", \"w\")\n",
    "print(json.dumps(json_freq_match))\n",
    "sys.stdout.close()\n",
    "name_freq = []\n",
    "freq_freq = []\n",
    "for pkg in matches:\n",
    "    name_freq.append(pkg.name)\n",
    "    freq_freq.append(pkg.freq)"
   ]
  },
  {
   "cell_type": "code",
   "execution_count": null,
   "id": "fb1a4947",
   "metadata": {},
   "outputs": [],
   "source": [
    "matches.sort(key=lambda x: x.size, reverse=True)\n",
    "print(\"By Size\")\n",
    "sys.stdout=open(\"BySize.json\", \"w\")\n",
    "print(json.dumps(matches))\n",
    "sys.stdout.close()\n",
    "name_size = []\n",
    "size_size = []\n",
    "for pkg in matches:\n",
    "    name_size.append(pkg.name)\n",
    "    size_size.append(pkg.size)\n"
   ]
  },
  {
   "cell_type": "code",
   "execution_count": 128,
   "id": "21213477",
   "metadata": {},
   "outputs": [
    {
     "data": {
      "image/png": "[encoded data removed]",
      "text/plain": [
       "<Figure size 432x288 with 1 Axes>"
      ]
     },
     "metadata": {
      "needs_background": "light"
     },
     "output_type": "display_data"
    }
   ],
   "source": [
    "fig = plt.figure()\n",
    "ax = fig.add_axes([0,0,1,1])\n",
    "ax.bar(name_freq,freq_freq)\n",
    "plt.show()"
   ]
  },
  {
   "cell_type": "code",
   "execution_count": 129,
   "id": "3cb33e83",
   "metadata": {},
   "outputs": [
    {
     "data": {
      "image/png": "[encoded data removed]",
      "text/plain": [
       "<Figure size 432x288 with 1 Axes>"
      ]
     },
     "metadata": {
      "needs_background": "light"
     },
     "output_type": "display_data"
    }
   ],
   "source": [
    "fig = plt.figure()\n",
    "ax = fig.add_axes([0,0,1,1])\n",
    "ax.bar(name_size,size_size)\n",
    "plt.show()"
   ]
  },
  {
   "cell_type": "code",
   "execution_count": null,
   "id": "83c1d730",
   "metadata": {},
   "outputs": [],
   "source": []
  }
 ],
 "metadata": {
  "kernelspec": {
   "display_name": "Python 3 (ipykernel)",
   "language": "python",
   "name": "python3"
  },
  "language_info": {
   "codemirror_mode": {
    "name": "ipython",
    "version": 3
   },
   "file_extension": ".py",
   "mimetype": "text/x-python",
   "name": "python",
   "nbconvert_exporter": "python",
   "pygments_lexer": "ipython3",
   "version": "3.10.8"
  }
 },
 "nbformat": 4,
 "nbformat_minor": 5
}
