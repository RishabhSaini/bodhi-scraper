{
 "cells": [
  {
   "cell_type": "code",
   "execution_count": 1,
   "id": "96c745b8",
   "metadata": {},
   "outputs": [],
   "source": [
    "import pandas as pd\n",
    "import matplotlib.pyplot as plt\n",
    "import sys\n",
    "import numpy as np"
   ]
  },
  {
   "cell_type": "markdown",
   "id": "a8576261",
   "metadata": {},
   "source": [
    "### Raw Data Visualization"
   ]
  },
  {
   "cell_type": "code",
   "execution_count": 2,
   "id": "6009a2b0",
   "metadata": {},
   "outputs": [
    {
     "data": {
      "text/plain": [
       "<matplotlib.collections.PathCollection at 0x7f8a11789210>"
      ]
     },
     "execution_count": 2,
     "metadata": {},
     "output_type": "execute_result"
    },
    {
     "data": {
      "image/png": "[encoded data removed]",
      "text/plain": [
       "<Figure size 432x288 with 1 Axes>"
      ]
     },
     "metadata": {
      "needs_background": "light"
     },
     "output_type": "display_data"
    }
   ],
   "source": [
    "df_pre = pd.read_csv('./parsed/metaFromFcos.csv')\n",
    "plt.ylabel(\"Size\")\n",
    "plt.xlabel(\"Freq\")\n",
    "plt.scatter(df_pre['Frequency'], df_pre['Size'])"
   ]
  },
  {
   "cell_type": "markdown",
   "id": "356e67dc",
   "metadata": {},
   "source": [
    "Since there exists freq with MAX_INT, we will group them in one and treat them as separate and hence not include them as a part of this analysis"
   ]
  },
  {
   "cell_type": "code",
   "execution_count": 3,
   "id": "cb85c5db",
   "metadata": {},
   "outputs": [
    {
     "data": {
      "text/html": [
       "<div>\n",
       "<style scoped>\n",
       "    .dataframe tbody tr th:only-of-type {\n",
       "        vertical-align: middle;\n",
       "    }\n",
       "\n",
       "    .dataframe tbody tr th {\n",
       "        vertical-align: top;\n",
       "    }\n",
       "\n",
       "    .dataframe thead th {\n",
       "        text-align: right;\n",
       "    }\n",
       "</style>\n",
       "<table border=\"1\" class=\"dataframe\">\n",
       "  <thead>\n",
       "    <tr style=\"text-align: right;\">\n",
       "      <th></th>\n",
       "      <th>Name</th>\n",
       "      <th>Frequency</th>\n",
       "      <th>Size</th>\n",
       "      <th>Src</th>\n",
       "    </tr>\n",
       "  </thead>\n",
       "  <tbody>\n",
       "    <tr>\n",
       "      <th>0</th>\n",
       "      <td>libteam-1.31-6.fc37.x86_64</td>\n",
       "      <td>0</td>\n",
       "      <td>86272</td>\n",
       "      <td>libteam-1.31-6.fc37.src.rpm</td>\n",
       "    </tr>\n",
       "    <tr>\n",
       "      <th>1</th>\n",
       "      <td>libassuan-2.5.5-5.fc37.x86_64</td>\n",
       "      <td>0</td>\n",
       "      <td>87000</td>\n",
       "      <td>libassuan-2.5.5-5.fc37.src.rpm</td>\n",
       "    </tr>\n",
       "    <tr>\n",
       "      <th>2</th>\n",
       "      <td>libseccomp-2.5.3-3.fc37.x86_64</td>\n",
       "      <td>0</td>\n",
       "      <td>152172</td>\n",
       "      <td>libseccomp-2.5.3-3.fc37.src.rpm</td>\n",
       "    </tr>\n",
       "    <tr>\n",
       "      <th>3</th>\n",
       "      <td>cpio-2.13-13.fc37.x86_64</td>\n",
       "      <td>0</td>\n",
       "      <td>966716</td>\n",
       "      <td>cpio-2.13-13.fc37.src.rpm</td>\n",
       "    </tr>\n",
       "    <tr>\n",
       "      <th>4</th>\n",
       "      <td>adcli-0.9.1-11.fc37.x86_64</td>\n",
       "      <td>0</td>\n",
       "      <td>168664</td>\n",
       "      <td>adcli-0.9.1-11.fc37.src.rpm</td>\n",
       "    </tr>\n",
       "    <tr>\n",
       "      <th>...</th>\n",
       "      <td>...</td>\n",
       "      <td>...</td>\n",
       "      <td>...</td>\n",
       "      <td>...</td>\n",
       "    </tr>\n",
       "    <tr>\n",
       "      <th>392</th>\n",
       "      <td>grub2-tools-minimal-1:2.06-63.fc37.x86_64</td>\n",
       "      <td>35</td>\n",
       "      <td>3238317</td>\n",
       "      <td>grub2-2.06-63.fc37.src.rpm</td>\n",
       "    </tr>\n",
       "    <tr>\n",
       "      <th>393</th>\n",
       "      <td>grub2-common-1:2.06-63.fc37.noarch</td>\n",
       "      <td>35</td>\n",
       "      <td>4671436</td>\n",
       "      <td>grub2-2.06-63.fc37.src.rpm</td>\n",
       "    </tr>\n",
       "    <tr>\n",
       "      <th>394</th>\n",
       "      <td>grub2-tools-1:2.06-63.fc37.x86_64</td>\n",
       "      <td>35</td>\n",
       "      <td>8060111</td>\n",
       "      <td>grub2-2.06-63.fc37.src.rpm</td>\n",
       "    </tr>\n",
       "    <tr>\n",
       "      <th>395</th>\n",
       "      <td>kernel-core-6.0.11-300.fc37.x86_64</td>\n",
       "      <td>117</td>\n",
       "      <td>55547726</td>\n",
       "      <td>kernel-6.0.11-300.fc37.src.rpm</td>\n",
       "    </tr>\n",
       "    <tr>\n",
       "      <th>396</th>\n",
       "      <td>kernel-modules-6.0.11-300.fc37.x86_64</td>\n",
       "      <td>117</td>\n",
       "      <td>59314428</td>\n",
       "      <td>kernel-6.0.11-300.fc37.src.rpm</td>\n",
       "    </tr>\n",
       "  </tbody>\n",
       "</table>\n",
       "<p>397 rows × 4 columns</p>\n",
       "</div>"
      ],
      "text/plain": [
       "                                          Name  Frequency      Size  \\\n",
       "0                   libteam-1.31-6.fc37.x86_64          0     86272   \n",
       "1                libassuan-2.5.5-5.fc37.x86_64          0     87000   \n",
       "2               libseccomp-2.5.3-3.fc37.x86_64          0    152172   \n",
       "3                     cpio-2.13-13.fc37.x86_64          0    966716   \n",
       "4                   adcli-0.9.1-11.fc37.x86_64          0    168664   \n",
       "..                                         ...        ...       ...   \n",
       "392  grub2-tools-minimal-1:2.06-63.fc37.x86_64         35   3238317   \n",
       "393         grub2-common-1:2.06-63.fc37.noarch         35   4671436   \n",
       "394          grub2-tools-1:2.06-63.fc37.x86_64         35   8060111   \n",
       "395         kernel-core-6.0.11-300.fc37.x86_64        117  55547726   \n",
       "396      kernel-modules-6.0.11-300.fc37.x86_64        117  59314428   \n",
       "\n",
       "                                 Src  \n",
       "0        libteam-1.31-6.fc37.src.rpm  \n",
       "1     libassuan-2.5.5-5.fc37.src.rpm  \n",
       "2    libseccomp-2.5.3-3.fc37.src.rpm  \n",
       "3          cpio-2.13-13.fc37.src.rpm  \n",
       "4        adcli-0.9.1-11.fc37.src.rpm  \n",
       "..                               ...  \n",
       "392       grub2-2.06-63.fc37.src.rpm  \n",
       "393       grub2-2.06-63.fc37.src.rpm  \n",
       "394       grub2-2.06-63.fc37.src.rpm  \n",
       "395   kernel-6.0.11-300.fc37.src.rpm  \n",
       "396   kernel-6.0.11-300.fc37.src.rpm  \n",
       "\n",
       "[397 rows x 4 columns]"
      ]
     },
     "execution_count": 3,
     "metadata": {},
     "output_type": "execute_result"
    }
   ],
   "source": [
    "rust_u32_int_max = 4294967295\n",
    "max_freq_row_no = []\n",
    "for i, val in enumerate(df_pre['Frequency']):\n",
    "    if val == rust_u32_int_max:\n",
    "        max_freq_row_no.append(i)\n",
    "df = df_pre.drop(max_freq_row_no).sort_values(by=['Frequency']).reset_index(drop=True)\n",
    "df"
   ]
  },
  {
   "cell_type": "markdown",
   "id": "44ded949",
   "metadata": {},
   "source": [
    "### Clipped Data Visualization"
   ]
  },
  {
   "cell_type": "code",
   "execution_count": 4,
   "id": "484422b7",
   "metadata": {},
   "outputs": [
    {
     "name": "stdout",
     "output_type": "stream",
     "text": [
      "s_low:  0.0 , s_hi:  55698394.08000008\n",
      "f_low:  0.0 , f_hi:  35.0\n",
      "Ignored: 5\n",
      "Anomalitites Ignored 1.2594458438287104 %\n"
     ]
    },
    {
     "data": {
      "image/png": "[encoded data removed]",
      "text/plain": [
       "<Figure size 432x288 with 1 Axes>"
      ]
     },
     "metadata": {
      "needs_background": "light"
     },
     "output_type": "display_data"
    }
   ],
   "source": [
    "plt.ylabel(\"Size\")\n",
    "plt.xlabel(\"Freq\")\n",
    "s_low = df[\"Size\"].quantile(0)\n",
    "s_hi  = df[\"Size\"].quantile(0.99)\n",
    "f_low = df[\"Frequency\"].quantile(0)\n",
    "f_hi  = df[\"Frequency\"].quantile(0.99)\n",
    "print(\"s_low: \", s_low, \", s_hi: \", s_hi)\n",
    "print(\"f_low: \", f_low, \", f_hi: \", f_hi)\n",
    "proc = df[(df[\"Frequency\"] <= f_hi) & (df[\"Frequency\"] >= f_low) & (df[\"Size\"] <= s_hi) & (df[\"Size\"] >= s_low)]\n",
    "plt.scatter(proc[\"Frequency\"], proc[\"Size\"])\n",
    "print(\"Ignored:\", len(df['Size']) - len(proc['Size']))\n",
    "print(\"Anomalitites Ignored\", (1-((len(proc['Size']))/len(df['Size'])))*100, \"%\")"
   ]
  },
  {
   "cell_type": "markdown",
   "id": "5fc58fe3",
   "metadata": {},
   "source": [
    "### Finding Anomalies using Stat"
   ]
  },
  {
   "cell_type": "code",
   "execution_count": 5,
   "id": "9256eceb",
   "metadata": {},
   "outputs": [],
   "source": [
    "def intersection(lst1, lst2):\n",
    "    return list(set(lst1) & set(lst2))\n",
    "\n",
    "def outliers(col, data, threshold):\n",
    "    mean = df[col].mean()\n",
    "    std = df[col].std()\n",
    "    threshold = threshold\n",
    "    high_outlier = []\n",
    "    low_outlier = []\n",
    "    for i, val in enumerate(data[col]):\n",
    "        if val > mean + threshold*std:\n",
    "            high_outlier.append(data[\"Name\"][i])\n",
    "        if val == 0:\n",
    "            low_outlier.append(data[\"Name\"][i])\n",
    "    return [high_outlier, low_outlier]\n",
    "\n",
    "def mid(col, data, threshold):\n",
    "    mean = df[col].mean()\n",
    "    std = df[col].std()\n",
    "    threshold = threshold\n",
    "    mid = []\n",
    "    for i, val in enumerate(data[col]):\n",
    "        if val < mean + threshold*std and val > 0:\n",
    "            mid.append(data[\"Name\"][i])\n",
    "    return mid\n",
    "\n",
    "def map_pkg(df, pkgs):\n",
    "    f_map = []\n",
    "    s_map = []\n",
    "    n_map = []\n",
    "    for i, val in enumerate(df[\"Name\"]):\n",
    "        if val in pkgs:\n",
    "            n_map.append(df[\"Name\"][i])\n",
    "            f_map.append(df[\"Frequency\"][i])\n",
    "            s_map.append(df[\"Size\"][i])\n",
    "    return [f_map, s_map, n_map]\n",
    "\n",
    "def maxmin(arr):\n",
    "    if len(arr) != 0:\n",
    "        return max(arr) - min(arr)\n",
    "    else:\n",
    "        return \"Nan\"\n",
    "      \n",
    "    "
   ]
  },
  {
   "cell_type": "code",
   "execution_count": 6,
   "id": "d00bc7ce",
   "metadata": {},
   "outputs": [
    {
     "name": "stdout",
     "output_type": "stream",
     "text": [
      "lf_hs: 0 which is 0.0 % of total pkgs\n",
      "mf_hs: 7 which is 1.8 % of total pkgs\n",
      "hf_hs: 2 which is 0.5 % of total pkgs\n",
      "lf_ms: 103 which is 25.9 % of total pkgs\n",
      "mf_ms: 265 which is 66.8 % of total pkgs\n",
      "hf_ms: 19 which is 4.8 % of total pkgs\n",
      "lf_ls: 0 which is 0.0 % of total pkgs\n",
      "mf_ls: 1 which is 0.3 % of total pkgs\n",
      "hf_ls: 0 which is 0.0 % of total pkgs\n"
     ]
    }
   ],
   "source": [
    "h_out_freq = outliers(\"Frequency\", df, 1.5)[0]\n",
    "h_out_size = outliers(\"Size\", df, 1.5)[0]\n",
    "l_out_freq = outliers(\"Frequency\", df, 1.5)[1]\n",
    "l_out_size = outliers(\"Size\", df, 1.5)[1]\n",
    "mid_freq = mid(\"Frequency\", df, 1.5)\n",
    "mid_size = mid(\"Size\", df, 1.5)\n",
    "\n",
    "lf_hs = intersection(h_out_size, l_out_freq)\n",
    "mf_hs = intersection(h_out_size, mid_freq)\n",
    "hf_hs = intersection(h_out_freq, h_out_size)\n",
    "lf_ms = intersection(mid_size, l_out_freq)\n",
    "mf_ms = intersection(mid_size, mid_freq)\n",
    "hf_ms = intersection(h_out_freq, mid_size)\n",
    "lf_ls = intersection(l_out_freq, l_out_size)\n",
    "mf_ls = intersection(mid_freq, l_out_size)\n",
    "hf_ls = intersection(h_out_freq, l_out_size)\n",
    "\n",
    "print(\"lf_hs:\", len(lf_hs), \"which is\", round(len(lf_hs)/len(df['Size'])*100, 1), \"% of total pkgs\")\n",
    "print(\"mf_hs:\", len(mf_hs), \"which is\", round(len(mf_hs)/len(df['Size'])*100, 1), \"% of total pkgs\")\n",
    "print(\"hf_hs:\", len(hf_hs), \"which is\", round(len(hf_hs)/len(df['Size'])*100, 1), \"% of total pkgs\")\n",
    "print(\"lf_ms:\", len(lf_ms), \"which is\", round(len(lf_ms)/len(df['Size'])*100, 1), \"% of total pkgs\")\n",
    "print(\"mf_ms:\", len(mf_ms), \"which is\", round(len(mf_ms)/len(df['Size'])*100, 1), \"% of total pkgs\")\n",
    "print(\"hf_ms:\", len(hf_ms), \"which is\", round(len(hf_ms)/len(df['Size'])*100, 1), \"% of total pkgs\")\n",
    "print(\"lf_ls:\", len(lf_ls), \"which is\", round(len(lf_ls)/len(df['Size'])*100, 1), \"% of total pkgs\")\n",
    "print(\"mf_ls:\", len(mf_ls), \"which is\", round(len(mf_ls)/len(df['Size'])*100, 1), \"% of total pkgs\")\n",
    "print(\"hf_ls:\", len(hf_ls), \"which is\", round(len(hf_ls)/len(df['Size'])*100, 1), \"% of total pkgs\")"
   ]
  },
  {
   "cell_type": "code",
   "execution_count": 7,
   "id": "fa8493fd",
   "metadata": {},
   "outputs": [
    {
     "name": "stdout",
     "output_type": "stream",
     "text": [
      "Total Size of lf_hs 0 Frequency difference: Nan\n",
      "Total Size of mf_hs 541543272 Frequency difference: 12\n",
      "Total Size of hf_hs 114862154 Frequency difference: 0\n",
      "Total Size of lf_ms 41087584 Frequency difference: 0\n",
      "Total Size of mf_ms 398574387 Frequency difference: 18\n",
      "Total Size of hf_ms 76822341 Frequency difference: 12\n",
      "Total Size of lf_ls 0 Frequency difference: Nan\n",
      "Total Size of mf_ls 0 Frequency difference: 0\n",
      "Total Size of hf_ls 0 Frequency difference: Nan\n"
     ]
    },
    {
     "data": {
      "image/png": "[encoded data removed]",
      "text/plain": [
       "<Figure size 432x288 with 1 Axes>"
      ]
     },
     "metadata": {
      "needs_background": "light"
     },
     "output_type": "display_data"
    }
   ],
   "source": [
    "plt.ylabel(\"Size\")\n",
    "plt.xlabel(\"Freq\")\n",
    "#           Teal      Red        Orange     Yellow     Green      Pink      Brown      Black       Navy       \n",
    "colors = ['#469990', '#e6194B', '#f58231', '#ffe119', '#3cb44b', '#f032e6', '#9A6324', '#000000', '#000075']\n",
    "#plt.scatter(map_pkg(df, lf_hs)[0], map_pkg(df, lf_hs)[1], color=colors[0]) #Teal\n",
    "print(\"Total Size of lf_hs\", sum(map_pkg(df, lf_hs)[1]), \"Frequency difference:\", maxmin(map_pkg(df, lf_hs)[0]))\n",
    "\n",
    "#plt.scatter(map_pkg(df, mf_hs)[0], map_pkg(df, mf_hs)[1], color=colors[1]) #Red\n",
    "print(\"Total Size of mf_hs\", sum(map_pkg(df, mf_hs)[1]), \"Frequency difference:\", maxmin(map_pkg(df, mf_hs)[0]))\n",
    "\n",
    "#plt.scatter(map_pkg(df, hf_hs)[0], map_pkg(df, hf_hs)[1], color=colors[2]) #Orange\n",
    "print(\"Total Size of hf_hs\", sum(map_pkg(df, hf_hs)[1]), \"Frequency difference:\", maxmin(map_pkg(df, hf_hs)[0]))\n",
    "\n",
    "#plt.scatter(map_pkg(df, lf_ms)[0], map_pkg(df, lf_ms)[1], color=colors[3]) #Yellow\n",
    "print(\"Total Size of lf_ms\", sum(map_pkg(df, lf_ms)[1]), \"Frequency difference:\", maxmin(map_pkg(df, lf_ms)[0]))\n",
    "\n",
    "plt.scatter(map_pkg(df, mf_ms)[0], map_pkg(df, mf_ms)[1], color=colors[4]) #Green\n",
    "print(\"Total Size of mf_ms\", sum(map_pkg(df, mf_ms)[1]), \"Frequency difference:\", maxmin(map_pkg(df, mf_ms)[0]))\n",
    "\n",
    "#plt.scatter(map_pkg(df, hf_ms)[0], map_pkg(df, hf_ms)[1], color=colors[5]) #Pink\n",
    "print(\"Total Size of hf_ms\", sum(map_pkg(df, hf_ms)[1]), \"Frequency difference:\", maxmin(map_pkg(df, hf_ms)[0]))\n",
    "\n",
    "#plt.scatter(map_pkg(df, lf_ls)[0], map_pkg(df, lf_ls)[1], color=colors[6]) #Brown\n",
    "print(\"Total Size of lf_ls\", sum(map_pkg(df, lf_ls)[1]), \"Frequency difference:\", maxmin(map_pkg(df, lf_ls)[0]))\n",
    "\n",
    "#plt.scatter(map_pkg(df, mf_ls)[0], map_pkg(df, mf_ls)[1], color=colors[7]) #Black \n",
    "print(\"Total Size of mf_ls\", sum(map_pkg(df, mf_ls)[1]), \"Frequency difference:\", maxmin(map_pkg(df, mf_ls)[0]))\n",
    "\n",
    "#plt.scatter(map_pkg(df, hf_ls)[0], map_pkg(df, hf_ls)[1], color=colors[8]) #Navy\n",
    "print(\"Total Size of hf_ls\", sum(map_pkg(df, hf_ls)[1]), \"Frequency difference:\", maxmin(map_pkg(df, hf_ls)[0]))\n",
    "\n",
    "plt.grid()"
   ]
  },
  {
   "cell_type": "code",
   "execution_count": 8,
   "id": "a042e18b",
   "metadata": {},
   "outputs": [
    {
     "name": "stdout",
     "output_type": "stream",
     "text": [
      "Total pkgs in quads:  396\n",
      "Total bins formed:  49\n",
      "Total pkgs in bins formed:  396\n"
     ]
    }
   ],
   "source": [
    "median_f_m = pd.DataFrame(map_pkg(df, mf_ms)[0])[0].quantile(interpolation='lower')\n",
    "median_s_m = pd.DataFrame(map_pkg(df, mf_ms)[1])[0].quantile(interpolation='lower')\n",
    "#print(\"f:\", median_f_m, \"s:\", median_s_m)\n",
    "\n",
    "def create_bins(arr, bins):\n",
    "    freq_arr, size_arr, name_arr = arr\n",
    "    max_size = max(size_arr)\n",
    "    bin_size = 0\n",
    "    bin_content = []\n",
    "    start = 0\n",
    "    for i, _freq_pkg in enumerate(freq_arr):\n",
    "        size_pkg = size_arr[i]\n",
    "        bin_content.append(name_arr[i])\n",
    "        bin_size += size_pkg\n",
    "        \n",
    "        if bin_size > max_size:\n",
    "            bin_content.pop()\n",
    "            bins.append({\n",
    "                \"content\" : bin_content.copy(),\n",
    "                \"size\" : bin_size - size_pkg,\n",
    "                \"freq_diff\" : maxmin(freq_arr[start: i+1]),\n",
    "            })\n",
    "            bin_content.clear()\n",
    "            bin_content.append(name_arr[i])\n",
    "            bin_size = size_pkg\n",
    "            start = i\n",
    "        \n",
    "        elif bin_size == max_size:\n",
    "            bins.append({\n",
    "                \"content\" : bin_content.copy(),\n",
    "                \"size\" : bin_size,\n",
    "                \"freq_diff\" : maxmin(freq_arr[start: i+1]),\n",
    "            })\n",
    "            bin_size = 0\n",
    "            bin_content.clear()\n",
    "            start = i + 1\n",
    "            \n",
    "        if i == len(freq_arr) - 1:\n",
    "            bins.append({\n",
    "            \"content\" : bin_content.copy(),\n",
    "            \"size\" : bin_size,\n",
    "            \"freq_diff\" : maxmin(freq_arr[start: i+1]),\n",
    "            })\n",
    "        \n",
    "    return bins\n",
    "\n",
    "bins = []\n",
    "create_bins(map_pkg(df, mf_hs), bins)\n",
    "create_bins(map_pkg(df, hf_hs), bins)\n",
    "create_bins(map_pkg(df, lf_ms), bins)\n",
    "create_bins(map_pkg(df, mf_ms), bins)\n",
    "create_bins(map_pkg(df, hf_ms), bins)\n",
    "print(\"Total pkgs in quads: \", len(mf_hs) + len(hf_hs) + len(lf_ms) + len(mf_ms) + len(hf_ms))\n",
    "print(\"Total bins formed: \", len(bins))\n",
    "\n",
    "pkgs_bin = 0\n",
    "for each_bin in bins:\n",
    "    pkgs_bin += len(each_bin[\"content\"])\n",
    "print(\"Total pkgs in bins formed: \", pkgs_bin)"
   ]
  },
  {
   "cell_type": "code",
   "execution_count": 10,
   "id": "dc765bfa",
   "metadata": {},
   "outputs": [
    {
     "data": {
      "image/png": "[encoded data removed]",
      "text/plain": [
       "<Figure size 432x288 with 1 Axes>"
      ]
     },
     "metadata": {
      "needs_background": "light"
     },
     "output_type": "display_data"
    }
   ],
   "source": [
    "def plot_bins(bins):\n",
    "    plt.ylabel(\"Size\")\n",
    "    plt.xlabel(\"Freq\")  \n",
    "    colors = ['#000000','#00FF00','#0000FF','#FF0000','#01FFFE','#FFA6FE','#FFDB66','#006401','#010067','#95003A','#007DB5','#FF00F6','#FFEEE8','#774D00','#90FB92','#0076FF','#D5FF00','#FF937E','#6A826C','#FF029D','#FE8900','#7A4782','#7E2DD2','#85A900','#FF0056','#A42400','#00AE7E','#683D3B','#BDC6FF','#263400','#BDD393','#00B917','#9E008E','#001544','#C28C9F','#FF74A3','#01D0FF','#004754','#E56FFE','#788231','#0E4CA1','#91D0CB','#BE9970','#968AE8','#BB8800','#43002C','#DEFF74','#00FFC6','#FFE502','#620E00','#008F9C','#98FF52','#7544B1','#B500FF','#00FF78','#FF6E41','#005F39','#6B6882','#5FAD4E','#A75740','#A5FFD2','#FFB167','#009BFF','#E85EBE',]\n",
    "    for i, each_bin in enumerate(bins):\n",
    "        plt.scatter(map_pkg(df, each_bin[\"content\"])[0], map_pkg(df, each_bin[\"content\"])[1], color=colors[i])\n",
    "    plt.grid()\n",
    "\n",
    "plot_bins(create_bins(map_pkg(df, mf_ms), []))"
   ]
  },
  {
   "cell_type": "code",
   "execution_count": 9,
   "id": "eeed65b9",
   "metadata": {},
   "outputs": [],
   "source": [
    "def basic_packing(components, bins):\n",
    "    bins = []\n",
    "    # remove high freq anomaly and pack them as a bin\n",
    "    # define max bin size to max(components.size)\n",
    "    # Aim to minimize frequency maxmin(bin)\n",
    "    # get freq/size (LHM) 9 parts\n",
    "    # for the part with size>Max_SIZE and freq>max_min, recursively find median (0.5 quntile) of freqequncy\n",
    "    # and use that as a partition to split the pkgs according to frequqncy. When once found fb<bands<fa, add\n",
    "    # to bin by first size\n",
    "    # Prevent doing a package structure change\n",
    "    return"
   ]
  },
  {
   "cell_type": "code",
   "execution_count": 8,
   "id": "42d304e4",
   "metadata": {},
   "outputs": [],
   "source": [
    "basic_packing(query, 64)"
   ]
  }
 ],
 "metadata": {
  "kernelspec": {
   "display_name": "Python 3 (ipykernel)",
   "language": "python",
   "name": "python3"
  },
  "language_info": {
   "codemirror_mode": {
    "name": "ipython",
    "version": 3
   },
   "file_extension": ".py",
   "mimetype": "text/x-python",
   "name": "python",
   "nbconvert_exporter": "python",
   "pygments_lexer": "ipython3",
   "version": "3.10.9"
  }
 },
 "nbformat": 4,
 "nbformat_minor": 5
}
